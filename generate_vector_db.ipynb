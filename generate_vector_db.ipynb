{
 "cells": [
  {
   "cell_type": "code",
   "execution_count": 8,
   "id": "bbe034aa",
   "metadata": {},
   "outputs": [],
   "source": [
    "import os"
   ]
  },
  {
   "cell_type": "code",
   "execution_count": 9,
   "metadata": {},
   "outputs": [],
   "source": [
    "# Function to load documents from a directory\n",
    "def load_documents_from_directory(directory_path):\n",
    "    documents = []\n",
    "    for filename in os.listdir(directory_path):\n",
    "        if filename.endswith(\".txt\"):\n",
    "            with open(\n",
    "                os.path.join(directory_path, filename), \"r\", encoding=\"utf-8\"\n",
    "            ) as file:\n",
    "                documents.append({\"id\": filename, \"text\": file.read()})\n",
    "    return documents"
   ]
  },
  {
   "cell_type": "code",
   "execution_count": 10,
   "metadata": {},
   "outputs": [],
   "source": [
    "# Function to split text into chunks\n",
    "def split_text(text, chunk_size=200, chunk_overlap=50):\n",
    "    chunks = []\n",
    "    start = 0\n",
    "    while start < len(text):\n",
    "        end = start + chunk_size\n",
    "        chunks.append(text[start:end])\n",
    "        start = end - chunk_overlap\n",
    "    return chunks"
   ]
  },
  {
   "cell_type": "code",
   "execution_count": 11,
   "id": "0b1bd741",
   "metadata": {},
   "outputs": [],
   "source": [
    "# Load documents from the directory\n",
    "directory_path = \"./pubmed_summaries\"\n",
    "documents = load_documents_from_directory(directory_path)"
   ]
  },
  {
   "cell_type": "code",
   "execution_count": 12,
   "id": "7b51c4c9",
   "metadata": {},
   "outputs": [],
   "source": [
    "# Split documents into chunks\n",
    "chunked_documents = []\n",
    "for doc in documents:\n",
    "    chunks = split_text(doc[\"text\"])\n",
    "    for i, chunk in enumerate(chunks):\n",
    "        chunked_documents.append({\"id\": f\"{doc['id']}_chunk{i+1}\", \"text\": chunk})"
   ]
  },
  {
   "cell_type": "code",
   "execution_count": 1,
   "id": "3ab2359d",
   "metadata": {},
   "outputs": [
    {
     "name": "stderr",
     "output_type": "stream",
     "text": [
      "c:\\Users\\22213\\OneDrive\\Desktop\\ragKoyl\\.venv\\Lib\\site-packages\\tqdm\\auto.py:21: TqdmWarning: IProgress not found. Please update jupyter and ipywidgets. See https://ipywidgets.readthedocs.io/en/stable/user_install.html\n",
      "  from .autonotebook import tqdm as notebook_tqdm\n"
     ]
    }
   ],
   "source": [
    "import chromadb\n",
    "import numpy as np\n",
    "from chromadb.config import Settings\n",
    "from chromadb.utils import embedding_functions\n",
    "from sentence_transformers import SentenceTransformer"
   ]
  },
  {
   "cell_type": "code",
   "execution_count": 7,
   "id": "930a3d76",
   "metadata": {},
   "outputs": [],
   "source": [
    "# Load the embedding model\n",
    "embedding_model = SentenceTransformer('all-MiniLM-L6-v2')\n",
    "\n",
    "# Wrap it in a function Chroma can understand\n",
    "class SentenceTransformerEmbeddingFunction:\n",
    "    def __init__(self, model):\n",
    "        self.model = model\n",
    "\n",
    "    def __call__(self, input):\n",
    "        return self.model.encode(input).tolist()\n",
    "\n",
    "# Initialize the wrapped function\n",
    "embedding_function = SentenceTransformerEmbeddingFunction(embedding_model)\n",
    "\n",
    "# Initialize Chroma with persistent storage\n",
    "chroma_client = chromadb.PersistentClient(path=\"chroma_persistent_storage\")\n",
    "\n",
    "# Create or get the collection with embedding function\n",
    "collection = chroma_client.get_or_create_collection(\n",
    "    name=\"medical_chunks\",\n",
    "    embedding_function=embedding_function\n",
    ")\n"
   ]
  },
  {
   "cell_type": "code",
   "execution_count": 13,
   "id": "1d5cf67c",
   "metadata": {},
   "outputs": [],
   "source": [
    "# Upsert into Chroma \n",
    "for doc in chunked_documents:\n",
    "    collection.add(\n",
    "        ids=[doc[\"id\"]],\n",
    "        documents=[doc[\"text\"]],\n",
    "    )"
   ]
  },
  {
   "cell_type": "code",
   "execution_count": 14,
   "id": "175d0f21",
   "metadata": {},
   "outputs": [],
   "source": [
    "# Query Function \n",
    "def query_documents(question, n_results=2):\n",
    "    results = collection.query(query_texts=[question], n_results=n_results)\n",
    "    relevant_chunks = [doc for sublist in results[\"documents\"] for doc in sublist]\n",
    "    return relevant_chunks"
   ]
  },
  {
   "cell_type": "code",
   "execution_count": 15,
   "id": "fe3ecbbe",
   "metadata": {},
   "outputs": [],
   "source": [
    "import json\n",
    "import requests"
   ]
  },
  {
   "cell_type": "code",
   "execution_count": 20,
   "id": "c46bb5c0",
   "metadata": {},
   "outputs": [],
   "source": [
    "URL = 'http://localhost:11434/api/generate'\n",
    "HEADERS = {\n",
    "        'Content-Type': 'application/json'\n",
    "    }\n",
    "\n",
    "# Local-LLM Placeholder \n",
    "def generate_response(question):\n",
    "    context = query_documents(question)\n",
    "\n",
    "    data = {\n",
    "        'model': 'deepseek-r1:1.5b',\n",
    "        'prompt': f\"You are a helpful doctor. I want you to help me figure out nutitions that i need to take accoding to my current symptoms.Use this context just as reference to answer:\\n\\n{context}\\n\\nQuestion: {question}\",\n",
    "        'stream': False\n",
    "    }\n",
    "\n",
    "    res = requests.post(URL, headers=HEADERS, data=json.dumps(data))\n",
    "\n",
    "    if res.status_code == 200:\n",
    "        res_text = res.text\n",
    "        data = json.loads(res_text)\n",
    "        actual_res = data['response']\n",
    "        return actual_res\n",
    "    \n",
    "    return 'Some error occured!'"
   ]
  },
  {
   "cell_type": "code",
   "execution_count": 21,
   "id": "8e9a779d",
   "metadata": {},
   "outputs": [
    {
     "name": "stdout",
     "output_type": "stream",
     "text": [
      "\n",
      "=== Final Answer ===\n",
      "<think>\n",
      "Alright, so I need to figure out the nutrition recommendations for managing anxiety based on the given context. Let me start by carefully reading the provided information to understand what's being discussed.\n",
      "\n",
      "The first part says that gammaCore is a treatment option for CPTHA with significant improvements in anxiety levels. The results show that gammaCore might be promising because of these improvements, especially when combined with other treatments like a noninvasive approach.\n",
      "\n",
      "Then, there's a section about the study: it mentions VAS (visual analog scale), SAS (self-rating anxiety scale) were recorded before and after treatment, with 68 patients included. The data shows that gammaCore improved anxiety levels over time. \n",
      "\n",
      "Now, focusing on nutrition recommendations for anxiety management. I know that nutrition can affect various health aspects, including heart health, which is often linked to anxiety in older adults. Maybe a diet rich in fruits, vegetables, and whole grains could help manage stress and anxiety.\n",
      "\n",
      "Another point from the context is about weight loss and significant improvements in anxiety levels. The study includes weight loss as part of their analysis. So, weight management might be important for anxiety treatment.\n",
      "\n",
      "Looking at the statistics: 13 males out of 68 patients are male participants. Maybe a balance between males and females? I'm not sure yet how this affects nutrition recommendations. Perhaps suggesting balanced diet across genders.\n",
      "\n",
      "But more importantly, the context talks about gammaCore being noninvasive but also related to weight loss. So maybe combining weight management with other treatments could be beneficial for anxiety reduction.\n",
      "\n",
      "I need to structure the nutrition recommendations considering:\n",
      "1. Diet high in antioxidants and healthy fats.\n",
      "2. Focus on whole foods that support heart health and reduce inflammation, which can alleviate stress.\n",
      "3. Suggest a low-carb diet if weight loss is part of anxiety management.\n",
      "4. Maybe include protein for overall balance but avoid too much.\n",
      "\n",
      "I should also consider specific nutrients like omega-3 fatty acids from fish, vitamin D from fortified cereals, and antioxidants like niacin and lutein in foods such as bananas or tomatoes.\n",
      "\n",
      "Wait, I'm a bit confused about the connection between gammaCore treatment and nutrition. The context says it's noninvasive but mentions weight loss. So perhaps the diet is part of managing both anxiety and weight.\n",
      "\n",
      "I think including a balanced diet rich in omega-3s, healthy fats, whole grains, and vegetables would be good for anxiety management. Maybe also considering a low-carb option if weight loss is an aspect.\n",
      "\n",
      "But I'm not sure if this directly ties into gammaCore specifically. The context doesn't specify that it's nutritionally balanced but just mentions that improving anxiety levels are associated with better treatment outcomes when diet is high in antioxidants and whole foods.\n",
      "\n",
      "So, putting it all together: recommend a balanced diet with lots of antioxidants, healthy fats, whole grains, and vegetables. Emphasize reducing carbs if weight loss is part of the treatment plan. Also, consider a low-carb option for those who might need to lose weight as well.\n",
      "</think>\n",
      "\n",
      "To address anxiety management through nutrition, focus on a balanced diet rich in antioxidants, healthy fats, whole grains, and vegetables. Here's a structured recommendation:\n",
      "\n",
      "1. **Dietary Focus:**\n",
      "   - **High Antioxidants:** Include foods like bananas ( niacin), tomatoes (niacin), and oranges (niacin mononitrate).\n",
      "   - **Healthy Fats:** Suggest omega-3 fatty acids from fish, walnuts, and olive oil.\n",
      "   - **Whole Grains and Vegetables:** Provide whole grains for carbohydrates and vegetables to support heart health.\n",
      "\n",
      "2. **Low-Carb Option:**\n",
      "   - Consider a low-carb diet for weight loss if weight management is part of anxiety treatment.\n",
      "\n",
      "3. **Balanced Approach:**\n",
      "   - Emphasize a high-quality, balanced diet across genders to ensure overall well-being and stress reduction.\n",
      "\n",
      "This approach targets both anxiety management and potential weight loss, aligning with the context's emphasis on improved anxiety outcomes associated with a healthy diet.\n"
     ]
    }
   ],
   "source": [
    "question = \"What are the nutrition recommendations for managing anxiety?\"\n",
    "answer = generate_response(question)\n",
    "\n",
    "print(\"\\n=== Final Answer ===\")\n",
    "print(answer)"
   ]
  },
  {
   "cell_type": "code",
   "execution_count": null,
   "id": "80866abe",
   "metadata": {},
   "outputs": [],
   "source": []
  }
 ],
 "metadata": {
  "kernelspec": {
   "display_name": ".venv",
   "language": "python",
   "name": "python3"
  },
  "language_info": {
   "codemirror_mode": {
    "name": "ipython",
    "version": 3
   },
   "file_extension": ".py",
   "mimetype": "text/x-python",
   "name": "python",
   "nbconvert_exporter": "python",
   "pygments_lexer": "ipython3",
   "version": "3.12.5"
  }
 },
 "nbformat": 4,
 "nbformat_minor": 5
}
