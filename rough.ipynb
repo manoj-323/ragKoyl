{
 "cells": [
  {
   "cell_type": "code",
   "execution_count": 2,
   "id": "d5661f94",
   "metadata": {},
   "outputs": [
    {
     "name": "stderr",
     "output_type": "stream",
     "text": [
      "c:\\Users\\22213\\OneDrive\\Desktop\\ragKoyl\\.venv\\Lib\\site-packages\\tqdm\\auto.py:21: TqdmWarning: IProgress not found. Please update jupyter and ipywidgets. See https://ipywidgets.readthedocs.io/en/stable/user_install.html\n",
      "  from .autonotebook import tqdm as notebook_tqdm\n"
     ]
    }
   ],
   "source": [
    "import json\n",
    "import requests\n",
    "import chromadb\n",
    "from sentence_transformers import SentenceTransformer"
   ]
  },
  {
   "cell_type": "code",
   "execution_count": 3,
   "id": "9ce7af3f",
   "metadata": {},
   "outputs": [],
   "source": [
    "embedding_model = SentenceTransformer('all-MiniLM-L6-v2')\n",
    "\n",
    "class SentenceTransformerEmbeddingFunction:\n",
    "    def __init__(self, model):\n",
    "        self.model = model\n",
    "\n",
    "    def __call__(self, input):\n",
    "        return self.model.encode(input).tolist()\n",
    "\n",
    "embedding_function = SentenceTransformerEmbeddingFunction(embedding_model)\n",
    "\n",
    "chroma_client = chromadb.PersistentClient(path=\"chroma_persistent_storage\")\n",
    "\n",
    "collection = chroma_client.get_or_create_collection(\n",
    "    name=\"medical_chunks\",\n",
    "    embedding_function=embedding_function\n",
    ")"
   ]
  },
  {
   "cell_type": "code",
   "execution_count": 11,
   "id": "4f5cd107",
   "metadata": {},
   "outputs": [
    {
     "name": "stdout",
     "output_type": "stream",
     "text": [
      " frequency, alongside significant improvements in anxiety levels. These outcomes suggest that gammaCore may be a promising noninvasive treatment option for CPTHA, particularly in patients with coexist analogue score (VAS), self-rating anxiety scale (SAS) were recorded before treatment and 3 and 6 months after treatment.\n",
      "A total of 68 patients were included in this study, including 13 males (19.12%) h daily records and Rome IV criteria-based surveys. Sleep, mental health, and HRQoL were evaluated using PSQI-J, J-PHQ-9, and SF-36, respectively.\n",
      "Both groups consumed about 40 g/day of WB. DF and β-G e and severity of RAU and psychological factors, as well as gut microbiota dysbiosis.\n",
      "The Zung's self-rating anxiety scale (SAS), Zung's self-rating depression scale (SDS), and Pittsburgh sleep qualit uted to the therapeutic failure of an SSRI and subsequent disability. In this study, we utilize data from a cohort of 302 European patients diagnosed with depression and/or anxiety who were referred t\n"
     ]
    }
   ],
   "source": [
    "def get_context(ques):\n",
    "    context = collection.query(\n",
    "        query_texts=[question],\n",
    "        n_results=5\n",
    "    )\n",
    "\n",
    "    print(' '.join(context['documents'][0]))\n",
    "\n",
    "question = \"What are the nutrition recommendations for managing anxiety?\"\n",
    "get_context(question)"
   ]
  },
  {
   "cell_type": "code",
   "execution_count": null,
   "id": "9540e702",
   "metadata": {},
   "outputs": [],
   "source": []
  },
  {
   "cell_type": "code",
   "execution_count": null,
   "id": "df00c301",
   "metadata": {},
   "outputs": [],
   "source": []
  },
  {
   "cell_type": "code",
   "execution_count": null,
   "id": "b625af88",
   "metadata": {},
   "outputs": [],
   "source": []
  }
 ],
 "metadata": {
  "kernelspec": {
   "display_name": ".venv",
   "language": "python",
   "name": "python3"
  },
  "language_info": {
   "codemirror_mode": {
    "name": "ipython",
    "version": 3
   },
   "file_extension": ".py",
   "mimetype": "text/x-python",
   "name": "python",
   "nbconvert_exporter": "python",
   "pygments_lexer": "ipython3",
   "version": "3.12.5"
  }
 },
 "nbformat": 4,
 "nbformat_minor": 5
}
